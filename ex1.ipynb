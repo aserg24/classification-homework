{
 "cells": [
  {
   "cell_type": "markdown",
   "metadata": {},
   "source": [
    "# Задание 2\n",
    "\n",
    "нужно написать функцию, которая принимает две строки и проверяет, входит ли хотя бы одна перестановка второй строки в первую. Например:\n",
    "\n",
    "> a = 'abcrotm'\n",
    "> \n",
    "> b = 'tro'\n",
    "\n",
    "функция def check_inv(a, b) вернет True, так как 'rot' содержится в 'abcrotm'. Нужно подумать как можно более оптимальный алгоритм и оценить его сложность. "
   ]
  },
  {
   "cell_type": "code",
   "execution_count": 77,
   "metadata": {},
   "outputs": [
    {
     "name": "stdout",
     "output_type": "stream",
     "text": [
      "True\n",
      "True\n",
      "True\n"
     ]
    }
   ],
   "source": [
    "def check_inv(a, b):\n",
    "    dict_b = dict()\n",
    "    for i in b:\n",
    "        if dict_b.get(i) != None:\n",
    "            dict_b[i] += 1\n",
    "        else:\n",
    "            dict_b[i] = 1\n",
    "    temp_b = dict_b.copy()\n",
    "    for i, char_a in enumerate(a):\n",
    "        if char_a in b and temp_b[char_a] != 0:\n",
    "            temp_b[char_a] += -1\n",
    "            for j in range(i+1, len(a)):\n",
    "                if all(v == 0 for v in temp_b.values()):\n",
    "                    return True\n",
    "                elif a[j] in b and temp_b[a[j]] != 0:\n",
    "                    temp_b[a[j]] += -1\n",
    "                else:\n",
    "                    temp_b = dict_b.copy()\n",
    "                    break\n",
    "    if all(v == 0 for v in temp_b.values()):\n",
    "        return True\n",
    "    else:\n",
    "        return False\n",
    "            \n",
    "a = 'catatemate'\n",
    "b = 'aet'\n",
    "print(check_inv(a,b))\n",
    "print(check_inv('abcrotm', 'tro'))\n",
    "print(check_inv('caaab', 'baa'))"
   ]
  },
  {
   "cell_type": "markdown",
   "metadata": {},
   "source": [
    "# Задание 3\n",
    "\n",
    "Реализовать бинарное дерево (класс Tree), в нём методы __repr__, __str__, __iter__ (итерация только по листьям)."
   ]
  },
  {
   "cell_type": "code",
   "execution_count": 81,
   "metadata": {},
   "outputs": [
    {
     "name": "stdout",
     "output_type": "stream",
     "text": [
      "True\n",
      "Tree(0, Tree(1, Tree(3, Tree(5), Tree(6)), Tree(4)), Tree(2))\n",
      "Tree(0, Tree(1, Tree(3, Tree(5, None, None), Tree(6, None, None)), Tree(4, None, None)), Tree(2, None, None))\n"
     ]
    }
   ],
   "source": [
    "class Tree:\n",
    "    def __init__(self, value=None, left=None, right=None):\n",
    "        self.left = left\n",
    "        self.right = right\n",
    "        self.value = value\n",
    "        \n",
    "    def __iter__(self):\n",
    "        if self.left:\n",
    "            for item in self.left:\n",
    "                yield item\n",
    "        if self.right:\n",
    "            for item in self.right:\n",
    "                yield item\n",
    "        if self.left == None and self.right == None:\n",
    "            yield self.value\n",
    "    \n",
    "    def __str__(self):\n",
    "        s = self\n",
    "        if s.left == None and s.right == None:\n",
    "            return 'Tree(' + str(s.value) + ')'\n",
    "        else:\n",
    "            return 'Tree({}, {}, {})'.format(s.value, str(s.left), str(s.right))\n",
    "     \n",
    "    def __repr__(self):\n",
    "        return 'Tree({}, {}, {})'.format(self.value, repr(self.left), repr(self.right))\n",
    "        \n",
    "    \n",
    "    \n",
    "tree = Tree(0, Tree(1, Tree(3, Tree(5), Tree(6)), Tree(4)),                             \n",
    "               Tree(2))\n",
    "\n",
    "print(list(tree) == [5, 6, 4, 2])\n",
    "print(str(tree))\n",
    "print(repr(tree))"
   ]
  },
  {
   "cell_type": "markdown",
   "metadata": {},
   "source": [
    "# Задание 4\n",
    "\n",
    "Реализовать простейший калькулятор математических выражений:\n",
    "- только целые числа\n",
    "- **+**, **\\-**, **\\***, **\\**\n",
    "- скобки\n",
    "\n",
    "**Можно использовать регулярные выражения**"
   ]
  },
  {
   "cell_type": "code",
   "execution_count": 82,
   "metadata": {},
   "outputs": [
    {
     "name": "stdout",
     "output_type": "stream",
     "text": [
      "True\n",
      "True\n",
      "True\n",
      "True\n",
      "True\n"
     ]
    }
   ],
   "source": [
    "def toReversePolishNotation(expr):\n",
    "    expr = expr.replace('(', ' ( ').replace(')', ' ) ')\n",
    "    expr = expr.replace('+', ' + ').replace('-', ' - ')\n",
    "    expr = expr.replace('/', ' / ').replace('*', ' * ')\n",
    "    queue = expr.split()\n",
    "    res = list()\n",
    "    stack = list()\n",
    "    for sym in queue:\n",
    "        if sym.isdigit():\n",
    "            res.append(sym)\n",
    "        elif sym == '+' or sym == '-':\n",
    "            if stack and (stack[-1] == '+' or stack[-1] == '-' or stack[-1] == '*' or stack[-1] == '/'):\n",
    "                res.append(stack.pop())\n",
    "            stack.append(sym)\n",
    "        elif sym == '*' or sym == '/':\n",
    "            if stack and (stack[-1] == '*' or stack[-1] == '/'):\n",
    "                res.append(stack.pop())\n",
    "            stack.append(sym)                \n",
    "        elif sym == '(':\n",
    "            stack.append(sym)\n",
    "        elif sym == ')':\n",
    "            while stack[-1] != '(':\n",
    "                res.append(stack.pop())\n",
    "            stack.pop()\n",
    "    while stack:\n",
    "        res.append(stack.pop())\n",
    "    return res\n",
    "                \n",
    "        \n",
    "def calc(expression):\n",
    "    rpn = toReversePolishNotation(expression)\n",
    "    i = 0\n",
    "    while len(rpn) > 1:\n",
    "        if rpn[i].isdigit():\n",
    "            i += 1\n",
    "        else:\n",
    "            if rpn[i] == '+':\n",
    "                rpn[i-2] = int(rpn[i-2]) + int(rpn[i-1])\n",
    "            if rpn[i] == '-':\n",
    "                rpn[i-2] = int(rpn[i-2]) - int(rpn[i-1])\n",
    "            if rpn[i] == '*':\n",
    "                rpn[i-2] = int(rpn[i-2]) * int(rpn[i-1])\n",
    "            if rpn[i] == '/':\n",
    "                rpn[i-2] = int(rpn[i-2]) / int(rpn[i-1])            \n",
    "            del rpn[i-1], rpn[i-1]\n",
    "            i += -1\n",
    "    return rpn[0]\n",
    "\n",
    "print(calc('2 * (15 - 3 * 4) - 2') == 4)\n",
    "print(calc('(1 + 2) * 4 + 3') == 15)\n",
    "print(calc('(4 + 4) / 4') == 2)\n",
    "print(calc('4 + 4 / 4') == 5)\n",
    "print(calc('(6 + 10 - 4) / (1 + 1 * 2) + 1') == 5)"
   ]
  }
 ],
 "metadata": {
  "anaconda-cloud": {},
  "kernelspec": {
   "display_name": "Python 3",
   "language": "python",
   "name": "python3"
  },
  "language_info": {
   "codemirror_mode": {
    "name": "ipython",
    "version": 3
   },
   "file_extension": ".py",
   "mimetype": "text/x-python",
   "name": "python",
   "nbconvert_exporter": "python",
   "pygments_lexer": "ipython3",
   "version": "3.6.1"
  }
 },
 "nbformat": 4,
 "nbformat_minor": 1
}
