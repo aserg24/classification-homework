{
 "cells": [
  {
   "cell_type": "code",
   "execution_count": 1,
   "metadata": {},
   "outputs": [],
   "source": [
    "import numpy as np\n",
    "import scipy as sp\n",
    "import matplotlib.pyplot as plt\n",
    "import seaborn as sns\n",
    "\n",
    "\n",
    "%matplotlib inline"
   ]
  },
  {
   "cell_type": "markdown",
   "metadata": {},
   "source": [
    "# 1. Работа с массивами NumPy"
   ]
  },
  {
   "cell_type": "markdown",
   "metadata": {},
   "source": [
    "**N. Все упражнения ниже нужно делать без использования циклов Python**\n",
    "\n",
    "**1.** Cоздать вектор\n",
    "\n",
    "$$(2, \\frac{2^2}{2}, \\ldots, \\frac{2^{20}}{20})$$\n",
    "\n",
    "Можно использовать функции [np.arange()](http://docs.scipy.org/doc/numpy/reference/generated/numpy.arange.html), [np.ones()](http://docs.scipy.org/doc/numpy/reference/generated/numpy.ones.html)"
   ]
  },
  {
   "cell_type": "code",
   "execution_count": 51,
   "metadata": {},
   "outputs": [
    {
     "data": {
      "text/plain": [
       "array([  2.00000000e+00,   2.00000000e+00,   2.66666667e+00,\n",
       "         4.00000000e+00,   6.40000000e+00,   1.06666667e+01,\n",
       "         1.82857143e+01,   3.20000000e+01,   5.68888889e+01,\n",
       "         1.02400000e+02,   1.86181818e+02,   3.41333333e+02,\n",
       "         6.30153846e+02,   1.17028571e+03,   2.18453333e+03,\n",
       "         4.09600000e+03,   7.71011765e+03,   1.45635556e+04,\n",
       "         2.75941053e+04,   5.24288000e+04])"
      ]
     },
     "execution_count": 51,
     "metadata": {},
     "output_type": "execute_result"
    }
   ],
   "source": [
    "n = np.arange(1, 21)\n",
    "ans = 2 ** n / n\n",
    "ans"
   ]
  },
  {
   "cell_type": "markdown",
   "metadata": {},
   "source": [
    "**2.** Посчитать:\n",
    "\n",
    "$$\\sum\\limits_{i=0}^{5}{0.1^{3i}0.2^{4i}}$$\n"
   ]
  },
  {
   "cell_type": "code",
   "execution_count": 49,
   "metadata": {},
   "outputs": [
    {
     "data": {
      "text/plain": [
       "1.00000160000256"
      ]
     },
     "execution_count": 49,
     "metadata": {},
     "output_type": "execute_result"
    }
   ],
   "source": [
    "i = np.arange(0, 6)\n",
    "s = 0.1 ** (3 * i) * 0.2 ** (4 * i)\n",
    "ans = s.sum()\n",
    "ans"
   ]
  },
  {
   "cell_type": "markdown",
   "metadata": {},
   "source": [
    "**3.** Создать нулевую матрицe $8 \\times 8$, и заполнить её единицами в шахматном порядке."
   ]
  },
  {
   "cell_type": "code",
   "execution_count": 48,
   "metadata": {},
   "outputs": [
    {
     "data": {
      "text/plain": [
       "array([[ 1.,  0.,  1.,  0.,  1.,  0.,  1.,  0.],\n",
       "       [ 0.,  1.,  0.,  1.,  0.,  1.,  0.,  1.],\n",
       "       [ 1.,  0.,  1.,  0.,  1.,  0.,  1.,  0.],\n",
       "       [ 0.,  1.,  0.,  1.,  0.,  1.,  0.,  1.],\n",
       "       [ 1.,  0.,  1.,  0.,  1.,  0.,  1.,  0.],\n",
       "       [ 0.,  1.,  0.,  1.,  0.,  1.,  0.,  1.],\n",
       "       [ 1.,  0.,  1.,  0.,  1.,  0.,  1.,  0.],\n",
       "       [ 0.,  1.,  0.,  1.,  0.,  1.,  0.,  1.]])"
      ]
     },
     "execution_count": 48,
     "metadata": {},
     "output_type": "execute_result"
    }
   ],
   "source": [
    "A = np.zeros((8, 8))\n",
    "A[::2, ::2] = 1\n",
    "A[1::2, 1::2] = 1\n",
    "A"
   ]
  },
  {
   "cell_type": "markdown",
   "metadata": {},
   "source": [
    "**4.** Есть 5 точек в декартовой системе координат (в виде матрицы $X$ размерностью $5 \\times 2$), сконвертируйте эти точки в полярную систему координат."
   ]
  },
  {
   "cell_type": "code",
   "execution_count": 47,
   "metadata": {},
   "outputs": [
    {
     "data": {
      "text/plain": [
       "array([[ 1.14139087,  0.51137492],\n",
       "       [ 0.98648433,  0.29292124],\n",
       "       [ 1.09414519,  0.80766527],\n",
       "       [ 0.81248109,  0.54846396],\n",
       "       [ 0.39259267,  0.63085991]])"
      ]
     },
     "execution_count": 47,
     "metadata": {},
     "output_type": "execute_result"
    }
   ],
   "source": [
    "X = np.random.random((5, 2))\n",
    "r = np.sqrt(X[:, 0] ** 2 + X[:, 1] ** 2)\n",
    "X[:, 1] = np.arccos(X[:, 0] / r)\n",
    "X[:, 0] = r\n",
    "X"
   ]
  },
  {
   "cell_type": "markdown",
   "metadata": {},
   "source": [
    "**5.** Найдите индексы максимального элемента в случайной матрице $10 \\times 10$.\n",
    "\n",
    "Cм. [np.argmax()](http://docs.scipy.org/doc/numpy/reference/generated/numpy.argmax.html)."
   ]
  },
  {
   "cell_type": "code",
   "execution_count": 7,
   "metadata": {},
   "outputs": [
    {
     "name": "stdout",
     "output_type": "stream",
     "text": [
      "[[ 6.  1.  8.]\n",
      " [ 6.  1.  3.]\n",
      " [ 8.  1.  3.]]\n",
      "[ 8.  6.  8.] [ 8.  1.  8.]\n",
      "0 0 6.0 8.0\n"
     ]
    },
    {
     "ename": "TypeError",
     "evalue": "exceptions must derive from BaseException",
     "output_type": "error",
     "traceback": [
      "\u001b[1;31m---------------------------------------------------------------------------\u001b[0m",
      "\u001b[1;31mTypeError\u001b[0m                                 Traceback (most recent call last)",
      "\u001b[1;32m<ipython-input-7-2abd6587ca59>\u001b[0m in \u001b[0;36m<module>\u001b[1;34m()\u001b[0m\n\u001b[0;32m     11\u001b[0m     \u001b[0mprint\u001b[0m\u001b[1;33m(\u001b[0m\u001b[0mnp\u001b[0m\u001b[1;33m.\u001b[0m\u001b[0mmax\u001b[0m\u001b[1;33m(\u001b[0m\u001b[0mX\u001b[0m\u001b[1;33m,\u001b[0m \u001b[0maxis\u001b[0m\u001b[1;33m=\u001b[0m\u001b[1;36m1\u001b[0m\u001b[1;33m)\u001b[0m\u001b[1;33m,\u001b[0m\u001b[0mnp\u001b[0m\u001b[1;33m.\u001b[0m\u001b[0mmax\u001b[0m\u001b[1;33m(\u001b[0m\u001b[0mX\u001b[0m\u001b[1;33m,\u001b[0m \u001b[0maxis\u001b[0m\u001b[1;33m=\u001b[0m\u001b[1;36m0\u001b[0m\u001b[1;33m)\u001b[0m\u001b[1;33m)\u001b[0m\u001b[1;33m\u001b[0m\u001b[0m\n\u001b[0;32m     12\u001b[0m     \u001b[0mprint\u001b[0m\u001b[1;33m(\u001b[0m\u001b[0mi\u001b[0m\u001b[1;33m,\u001b[0m\u001b[0mj\u001b[0m\u001b[1;33m,\u001b[0m\u001b[0mX\u001b[0m\u001b[1;33m[\u001b[0m\u001b[0mi\u001b[0m\u001b[1;33m,\u001b[0m\u001b[0mj\u001b[0m\u001b[1;33m]\u001b[0m\u001b[1;33m,\u001b[0m  \u001b[0mnp\u001b[0m\u001b[1;33m.\u001b[0m\u001b[0mmax\u001b[0m\u001b[1;33m(\u001b[0m\u001b[0mX\u001b[0m\u001b[1;33m)\u001b[0m\u001b[1;33m)\u001b[0m\u001b[1;33m\u001b[0m\u001b[0m\n\u001b[1;32m---> 13\u001b[1;33m     \u001b[1;32mraise\u001b[0m \u001b[1;34m\"no max\"\u001b[0m\u001b[1;33m\u001b[0m\u001b[0m\n\u001b[0m\u001b[0;32m     14\u001b[0m \u001b[1;32melse\u001b[0m\u001b[1;33m:\u001b[0m\u001b[1;33m\u001b[0m\u001b[0m\n\u001b[0;32m     15\u001b[0m     \u001b[0mprint\u001b[0m\u001b[1;33m(\u001b[0m\u001b[0mi\u001b[0m\u001b[1;33m,\u001b[0m\u001b[0mj\u001b[0m\u001b[1;33m,\u001b[0m\u001b[0mX\u001b[0m\u001b[1;33m[\u001b[0m\u001b[0mi\u001b[0m\u001b[1;33m,\u001b[0m\u001b[0mj\u001b[0m\u001b[1;33m]\u001b[0m\u001b[1;33m)\u001b[0m\u001b[1;33m\u001b[0m\u001b[0m\n",
      "\u001b[1;31mTypeError\u001b[0m: exceptions must derive from BaseException"
     ]
    }
   ],
   "source": [
    "#контрпример\n",
    "X = np.ones((3,3))\n",
    "X[1:,2]=3\n",
    "X[:2,0]=6\n",
    "X[0,2]=8\n",
    "X[2,0]=8\n",
    "print(X)\n",
    "\n",
    "i = np.argmax(np.max(X, axis=1))\n",
    "j = np.argmax(np.max(X, axis=0))\n",
    "if X[i,j] != np.max(X):\n",
    "    print(np.max(X, axis=1),np.max(X, axis=0))\n",
    "    print(i,j,X[i,j],  np.max(X))\n",
    "    raise \"no max\"\n",
    "else:\n",
    "    print(i,j,X[i,j])"
   ]
  },
  {
   "cell_type": "code",
   "execution_count": 34,
   "metadata": {},
   "outputs": [
    {
     "name": "stdout",
     "output_type": "stream",
     "text": [
      "4 3 0.962228290068\n",
      "[[ 0.68018     0.09416977  0.19876119  0.49060303  0.95990034  0.20868285\n",
      "   0.71455928  0.32247603  0.75838839  0.61937029]\n",
      " [ 0.52272074  0.23329512  0.47811393  0.01789529  0.35675563  0.01995606\n",
      "   0.9444755   0.04416745  0.38889288  0.77407822]\n",
      " [ 0.60767166  0.77647785  0.64809419  0.10461937  0.34041416  0.84809427\n",
      "   0.2916371   0.35635942  0.34417277  0.07594458]\n",
      " [ 0.12950091  0.11153253  0.34119082  0.69341853  0.77283437  0.412039\n",
      "   0.83664269  0.23496066  0.09635593  0.22465411]\n",
      " [ 0.10308235  0.37841329  0.93276578  0.96222829  0.88000348  0.4038135\n",
      "   0.30979214  0.89129762  0.02964352  0.91723675]\n",
      " [ 0.51304892  0.04719748  0.94955276  0.01718604  0.4746372   0.7984439\n",
      "   0.01363014  0.21835494  0.26337858  0.34720048]\n",
      " [ 0.91833584  0.77593375  0.33056076  0.2288611   0.35488483  0.57737025\n",
      "   0.33043432  0.19067447  0.18025476  0.17514051]\n",
      " [ 0.12514338  0.41465023  0.15752136  0.75253637  0.60060879  0.78982736\n",
      "   0.75249661  0.85015555  0.50663415  0.38191545]\n",
      " [ 0.38187555  0.79690847  0.56480481  0.48619073  0.23924404  0.55448044\n",
      "   0.32555409  0.50726989  0.61017201  0.94908068]\n",
      " [ 0.4405802   0.36102889  0.38550896  0.15270356  0.86423132  0.79295767\n",
      "   0.25857139  0.31160639  0.83547976  0.86916533]]\n"
     ]
    }
   ],
   "source": [
    "X = np.random.random((10, 10))\n",
    "i = np.argmax(np.max(X, axis=1))\n",
    "j = np.argmax(np.max(X, axis=0))\n",
    "if X[i,j] != np.max(X):\n",
    "    print(np.max(X, axis=1),np.max(X, axis=0))\n",
    "    print(i,j,X[i,j],  np.max(X))\n",
    "    raise \"no max\"\n",
    "else:\n",
    "    print(i,j,X[i,j])\n",
    "print(X)"
   ]
  },
  {
   "cell_type": "markdown",
   "metadata": {},
   "source": [
    "**6.** Есть 10 точек ($X$) и ещё одна ($y$). Найти в $X$ ближайшую к $y$ точку."
   ]
  },
  {
   "cell_type": "code",
   "execution_count": 46,
   "metadata": {},
   "outputs": [
    {
     "data": {
      "text/plain": [
       "array([ 0.93223758,  0.7214819 ])"
      ]
     },
     "execution_count": 46,
     "metadata": {},
     "output_type": "execute_result"
    }
   ],
   "source": [
    "X = np.random.random((10, 2))\n",
    "y = np.random.random((1, 2))\n",
    "ans = X[np.argmin(np.sqrt(((X[:,0] - y[0,0]) ** 2 + (X[:,1] - y[0,1]) ** 2))), :]\n",
    "ans"
   ]
  },
  {
   "cell_type": "markdown",
   "metadata": {},
   "source": [
    "**7.** Дана функция:\n",
    "\n",
    "$$\n",
    " \\begin{cases}\n",
    "    x^2 + 2x + 6, & x < 0  \\\\\n",
    "    x + 6, & 0 \\le x \\le 2 \\\\\n",
    "    x^2 + 4x - 4, & x \\ge 2\n",
    " \\end{cases}\n",
    "$$\n",
    "\n",
    "Постройте массив из её значений на  $-3 \\le x \\le 3$."
   ]
  },
  {
   "cell_type": "code",
   "execution_count": 45,
   "metadata": {},
   "outputs": [
    {
     "data": {
      "text/plain": [
       "array([  9.  ,   7.25,   6.  ,   5.25,   5.  ,   5.25,   6.  ,   6.5 ,\n",
       "         7.  ,   7.5 ,   8.  ,  12.25,  17.  ])"
      ]
     },
     "execution_count": 45,
     "metadata": {},
     "output_type": "execute_result"
    }
   ],
   "source": [
    "@np.vectorize\n",
    "def f(x):\n",
    "    if x < 0: return x ** 2 + 2 * x + 6\n",
    "    elif x < 2: return x + 6\n",
    "    else: return x ** 2 + 4 * x - 4\n",
    "    \n",
    "x = np.arange(-3, 3.00001, 0.5)\n",
    "ans = f(x)\n",
    "ans"
   ]
  },
  {
   "cell_type": "markdown",
   "metadata": {},
   "source": [
    "**8.** Из каждого элемента матрицы вычесть среднее арифметическое от всех элементов в соответствующей строке (после чего среднее значение каждой строки должно равняться нулю).\n",
    "\n",
    "Cм. [np.mean()](http://docs.scipy.org/doc/numpy/reference/generated/numpy.mean.html)."
   ]
  },
  {
   "cell_type": "code",
   "execution_count": 43,
   "metadata": {},
   "outputs": [
    {
     "data": {
      "text/plain": [
       "array([  2.22044605e-17,  -3.33066907e-17,  -6.66133815e-17,\n",
       "        -8.88178420e-17,   2.22044605e-17,  -6.66133815e-17,\n",
       "        -3.33066907e-17,   4.44089210e-17,  -2.22044605e-17,\n",
       "        -4.44089210e-17])"
      ]
     },
     "execution_count": 43,
     "metadata": {},
     "output_type": "execute_result"
    }
   ],
   "source": [
    "X = np.random.random((10, 10))\n",
    "med = np.mean(X, axis=1)\n",
    "X = (X.T - med).T\n",
    "np.mean(X, axis=1)"
   ]
  },
  {
   "cell_type": "markdown",
   "metadata": {},
   "source": [
    "**9.** Есть массив из 1000 чисел, полученных из генератора случайных чисел, имеющий нормальное распределение. Посчитайте выборочное среднее и выборочную дисперсию. "
   ]
  },
  {
   "cell_type": "code",
   "execution_count": 38,
   "metadata": {},
   "outputs": [
    {
     "name": "stdout",
     "output_type": "stream",
     "text": [
      "4.88189847122\n",
      "3.85912147929\n"
     ]
    }
   ],
   "source": [
    "X = np.random.normal(loc=5, scale=2., size=1000)\n",
    "MX = np.mean(X)\n",
    "DX = np.std(X) ** 2\n",
    "print(MX)\n",
    "print(DX)"
   ]
  },
  {
   "cell_type": "markdown",
   "metadata": {},
   "source": [
    "**10.** Создать матрицу:\n",
    "\n",
    "$$\n",
    "\\begin{pmatrix}\n",
    "0 & 1 & 2 & 3 & 4 \\\\\n",
    "1 & 2 & 3 & 4 & 0 \\\\\n",
    "2 & 3 & 4 & 0 & 1 \\\\\n",
    "3 & 4 & 0 & 1 & 2 \\\\\n",
    "4 & 0 & 1 & 2 & 3\n",
    "\\end{pmatrix}\n",
    "$$"
   ]
  },
  {
   "cell_type": "code",
   "execution_count": 36,
   "metadata": {},
   "outputs": [
    {
     "data": {
      "text/plain": [
       "array([[ 0.,  1.,  2.,  3.,  4.],\n",
       "       [ 1.,  2.,  3.,  4.,  0.],\n",
       "       [ 2.,  3.,  4.,  0.,  1.],\n",
       "       [ 3.,  4.,  0.,  1.,  2.],\n",
       "       [ 4.,  0.,  1.,  2.,  3.]])"
      ]
     },
     "execution_count": 36,
     "metadata": {},
     "output_type": "execute_result"
    }
   ],
   "source": [
    "A = np.zeros((5,5))\n",
    "A[0:5, :] = np.arange(5)\n",
    "A[1,:] = np.roll(A[0,:], -1)\n",
    "A[2,:] = np.roll(A[1,:], -1)\n",
    "A[3,:] = np.roll(A[2,:], -1)\n",
    "A[4,:] = np.roll(A[3,:], -1)\n",
    "A"
   ]
  },
  {
   "cell_type": "code",
   "execution_count": 35,
   "metadata": {},
   "outputs": [
    {
     "name": "stdout",
     "output_type": "stream",
     "text": [
      "[-0.2848452  -1.01823845 -0.14292637 -0.35320805  0.09978189]\n",
      "-1.69943618783\n",
      "-1.4460100284\n"
     ]
    }
   ],
   "source": [
    "z = np.random.normal(size=5)\n",
    "print(z)\n",
    "print(np.sum(z))\n",
    "print(z[0]+z[1]+z[2])"
   ]
  },
  {
   "cell_type": "code",
   "execution_count": null,
   "metadata": {
    "collapsed": true
   },
   "outputs": [],
   "source": []
  }
 ],
 "metadata": {
  "anaconda-cloud": {},
  "kernelspec": {
   "display_name": "Python 3",
   "language": "python",
   "name": "python3"
  },
  "language_info": {
   "codemirror_mode": {
    "name": "ipython",
    "version": 3
   },
   "file_extension": ".py",
   "mimetype": "text/x-python",
   "name": "python",
   "nbconvert_exporter": "python",
   "pygments_lexer": "ipython3",
   "version": "3.6.1"
  }
 },
 "nbformat": 4,
 "nbformat_minor": 1
}
