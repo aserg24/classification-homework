{
 "cells": [
  {
   "cell_type": "code",
   "execution_count": null,
   "metadata": {
    "collapsed": true
   },
   "outputs": [],
   "source": [
    "import lxml.html\n",
    "import lxml.etree\n",
    "import requests\n",
    "from sqlalchemy import func, create_engine\n",
    "from sqlalchemy import Column, Integer, Text, DateTime\n",
    "from sqlalchemy.schema import Index\n",
    "from sqlalchemy.orm import sessionmaker\n",
    "from sqlalchemy.ext.declarative import declarative_base\n"
   ]
  },
  {
   "cell_type": "code",
   "execution_count": null,
   "metadata": {
    "collapsed": true
   },
   "outputs": [],
   "source": [
    "Base = declarative_base()\n",
    "\n",
    "class Question(Base):\n",
    "    __tablename__ = 'question'\n",
    "\n",
    "    id = Column(Integer, primary_key=True)\n",
    "    text = Column(Text, nullable=False)\n",
    "    answer = Column(Text, nullable=False)\n",
    "    \n",
    "    def __init__(self, text, answer):\n",
    "        self.text = text\n",
    "        self.answer = answer\n",
    "\n",
    "\n",
    "def init_db(db_url):\n",
    "    engine = create_engine(db_url)\n",
    "    Base.metadata.bind = engine\n",
    "    Base.metadata.create_all()\n",
    "    return sessionmaker(bind=engine)\n",
    "\n",
    "db_session = init_db('sqlite:///chgk.db')()\n",
    "\n"
   ]
  },
  {
   "cell_type": "code",
   "execution_count": null,
   "metadata": {
    "collapsed": true
   },
   "outputs": [],
   "source": [
    "def followTheLink(link):\n",
    "    url = 'https://db.chgk.info/' + link\n",
    "    response = requests.get(url)\n",
    "    return lxml.html.fromstring(response.text)"
   ]
  },
  {
   "cell_type": "code",
   "execution_count": null,
   "metadata": {
    "collapsed": true
   },
   "outputs": [],
   "source": [
    "response = requests.get('https://db.chgk.info')\n",
    "tree = lxml.html.fromstring(response.text)\n",
    "\n",
    "nextPageIsExist = True\n",
    "\n",
    "while nextPageIsExist == True:\n",
    "    urles = tree.xpath('//table[@class=\"last_packages\"]//td[2]/a/@href')\n",
    "    for url in urles:\n",
    "        roundTree = followTheLink(url)\n",
    "        questions = roundTree.xpath('//div[@class=\"question\"]')\n",
    "        \n",
    "        for i, q in enumerate(questions):\n",
    "            text = ''.join(q.xpath('p/text()')).replace('\\n', '')\n",
    "            answer = ''.join(q.xpath('.//p/strong[@class=\"Answer\"]/../text()')).replace('/n', '')\n",
    "            newQuestion = Question(text, answer)\n",
    "            db_session.add(newQuestion)\n",
    "        db_session.commit()\n",
    "            \n",
    "    nextPage = tree.xpath('//li[@class=\"pager-next\"]')\n",
    "    if nextPage:\n",
    "        tree = followTheLink(nextPage[0].xpath('a/@href')[0])\n",
    "    else:\n",
    "        nextPageIsExist = False\n",
    "    "
   ]
  }
 ],
 "metadata": {
  "kernelspec": {
   "display_name": "Python 3",
   "language": "python",
   "name": "python3"
  },
  "language_info": {
   "codemirror_mode": {
    "name": "ipython",
    "version": 3
   },
   "file_extension": ".py",
   "mimetype": "text/x-python",
   "name": "python",
   "nbconvert_exporter": "python",
   "pygments_lexer": "ipython3",
   "version": "3.6.1"
  }
 },
 "nbformat": 4,
 "nbformat_minor": 2
}
